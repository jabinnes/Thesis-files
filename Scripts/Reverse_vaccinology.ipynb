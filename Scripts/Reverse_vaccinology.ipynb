{
 "cells": [
  {
   "cell_type": "code",
   "execution_count": 1,
   "metadata": {},
   "outputs": [],
   "source": [
    "import glob\n",
    "import os\n",
    "import shutil\n",
    "import subprocess\n",
    "import pandas as pd\n",
    "import time\n",
    "import numpy as np\n",
    "from pathlib import Path\n",
    "import matplotlib\n",
    "%matplotlib inline\n",
    "from config import * #config file for paths of output and input files"
   ]
  },
  {
   "cell_type": "code",
   "execution_count": null,
   "metadata": {},
   "outputs": [],
   "source": [
    "# to pick cellwall and extracellular protein rows from Vaxign output\n",
    "rv_CC1=pd.read_excel(os.path.join(sharepath, \"Bovine_isolates\", \"Reverse_vaccinology\", \"vaxgin_result_B133_Y02_CC1.xlsx\"), index_col=\"Protein Accession\")\n",
    "rv_B133_CC1_extracellwall=rv_CC1.loc[((rv_CC1[\"Localization\"] == \"Cellwall\")| (rv_CC1[\"Localization\"] == \"Extracellular\")) & (rv_CC1[\"Trans-membrane helices\"] < 2)]\n",
    "rv_B133_CC1_extracellwall.to_csv(os.path.join(sharepath, \"Bovine_isolates\", \"Reverse_vaccinology\", \"rv_B133_CC1_extracellwall.csv\"))"
   ]
  },
  {
   "cell_type": "code",
   "execution_count": null,
   "metadata": {},
   "outputs": [],
   "source": [
    "#to pick the protein sequences from prokka faa output based on the localization output from Vaxign\n",
    "for f in rv_B133_CC1_extracellwall[\"Protein Accession\"]:\n",
    "    l=f.split(\"_0\")[0]\n",
    "    print(\"picking\", f, \"from\", l+\".faa\")\n",
    "    with open(os.path.join(sharepath, \"Bovine_isolates\", \"Reverse_vaccinology\", \"B133_extracellwall_protein.fasta\"), \"a\") as b:\n",
    "        subprocess.run([\"samtools\", \"faidx\", os.path.join(sharepath, \"Bovine_isolates\", \"prokka\", l+\".faa\"), f],stdout=b)"
   ]
  },
  {
   "cell_type": "code",
   "execution_count": null,
   "metadata": {},
   "outputs": [],
   "source": [
    "#extracting the ANTIGEN lines from VaxiJen results and write a new text file\n",
    "with open(os.path.join(sharepath, \"Bovine_isolates\", \"Reverse_vaccinology\", \"B083_extracellwall_VaxiJenresult.txt\"), \"r\") as openfile:\n",
    "    for line in openfile:\n",
    "        for part in line.split(\"\\n\"):\n",
    "            if \"Probable ANTIGEN\" in part:\n",
    "                print (part)\n",
    "                with open (os.path.join(sharepath, \"Bovine_isolates\", \"Reverse_vaccinology\",\n",
    "                                       \"B083_antigen.txt\"), \"a\") as f:\n",
    "                    f.write(part+\"\\n\")"
   ]
  },
  {
   "cell_type": "code",
   "execution_count": null,
   "metadata": {},
   "outputs": [],
   "source": [
    "#extracting protein files from faa using vaccine name file\n",
    "with open (os.path.join(sharepath, \"Bovine_isolates\", \"Reverse_vaccinology\", \"CC1_antigen.txt\"), 'r') as f:\n",
    "    for line in f:\n",
    "        name=line.split(None, 1)[0].split(\">\")[1]\n",
    "        filenamepath=glob.glob(os.path.join(sharepath, \"Bovine_isolates\", \n",
    "                                                   \"prokka\", \"*B003_F02_Y13_CC1.faa\"))\n",
    "        for a in filenamepath:\n",
    "            with open(os.path.join(sharepath, \"Bovine_isolates\", \"Reverse_vaccinology\", \"vaccine_protein.fasta\"), \"a\") as t:\n",
    "                subprocess.run([\"seqkit\", \"grep\", \"-r\", \"-p\", \"^\"+name, a], stdout=t)"
   ]
  },
  {
   "cell_type": "code",
   "execution_count": null,
   "metadata": {},
   "outputs": [],
   "source": [
    "#extracting nucleotide sequeneces of vaccine candidates from ffn file\n",
    "with open (os.path.join(sharepath, \"Bovine_isolates\", \"Reverse_vaccinology\", \"B083_antigen.txt\"), 'r') as f:\n",
    "    for line in f:\n",
    "        name=line.split(None, 1)[0].split(\">\")[1]\n",
    "        filenamepath=glob.glob(os.path.join(sharepath, \"Bovine_isolates\", \n",
    "                                                   \"prokka\", \"*B083_F63_Y18_CC1.ffn\"))\n",
    "        for a in filenamepath:\n",
    "            with open(os.path.join(sharepath, \"Bovine_isolates\", \"Reverse_vaccinology\", \"B083_vaccine_candidates.fasta\"), \"a\") as t:\n",
    "                subprocess.run([\"seqkit\", \"grep\", \"-r\", \"-p\", \"^\"+name, a], stdout=t)\n",
    "                 "
   ]
  },
  {
   "cell_type": "code",
   "execution_count": null,
   "metadata": {},
   "outputs": [],
   "source": [
    "# writing csv file from text file\n",
    "with open (os.path.join(sharepath, \"Bovine_isolates\", \"Reverse_vaccinology\", \"B083_vaccine_names.txt\")) as f:\n",
    "    for line in f:\n",
    "        name1=line.split(None, 1)[0]\n",
    "        name2=line.split(None, 1)[1]\n",
    "        with open (os.path.join(sharepath, \"Bovine_isolates\", \"Reverse_vaccinology\", \"B083_vaccine_names.csv\"), \"a\") as s:\n",
    "            s.write(name1+\",\"+name2)"
   ]
  },
  {
   "cell_type": "code",
   "execution_count": null,
   "metadata": {},
   "outputs": [],
   "source": [
    "#running ariba on bovine reads against vaccine candidate fasta file\n",
    "tsv=os.path.join(sharepath, \"Bovine_isolates\", \"Reverse_vaccinology\", \"B133_vaccine_report.tsv\")\n",
    "fasta=os.path.join(sharepath, \"Bovine_isolates\", \"Reverse_vaccinology\", \"B133_vaccine_candidates.fasta\")\n",
    "ref=os.path.join(sharepath, \"Bovine_isolates\", \"Reverse_vaccinology\", \"B133_vaccine_report\")\n",
    "output=os.path.join(workpath, \"ARIBA_B133_vaccine\")\n",
    "namelist = pd.read_csv(os.path.join(paperpath, \"data\", \"sbhmlst.csv\"), index_col=\"Assembly\")\n",
    "subprocess.run([\"ariba\", \"prepareref\", \"-f\", fasta, \"-m\", tsv, ref])\n",
    "count=0\n",
    "r1_files=glob.glob(os.path.join(readpath, \"reads\", \"Bovine_processed\", \"*R1*\"))\n",
    "for r1 in r1_files:\n",
    "    print(time.ctime())\n",
    "    start=time.time()\n",
    "    count+=1\n",
    "    r2=r1.replace(\"R1\", \"R2\")\n",
    "    labname=namelist[\"newname\"][r1.split(\"/\")[5].split(\"_\")[1]]\n",
    "    print(count, \"mapping\", labname)\n",
    "    subprocess.run([\"ariba\", \"run\", ref, r1, r2, os.path.join(output,labname)])       \n",
    "    end=time.time()\n",
    "    print((end-start)/60,\"mins\")\n",
    "    \n",
    "!ariba summary /home/jabin/Documents/Comparative/ARIBA_B133_vaccine/B133_vaccine /home/jabin/Documents/Comparative/ARIBA_B133_vaccine/*/report.tsv\n",
    "\n",
    "outfile=os.path.join(workpath, \"ARIBA_B133_vaccine\")\n",
    "a_s= pd.read_csv(os.path.join(outfile, \"B133_vaccine.csv\"))\n",
    "a_s[\"name\"]=a_s[\"name\"].str.split(\"/\").str[6]\n",
    "a_s=a_s.replace(\"yes\", \"1\")\n",
    "a_s=a_s.replace(\"no\", \"0\")\n",
    "a_s = a_s[a_s.columns.drop(list(a_s.filter(regex='colour')))]\n",
    "a_s.to_csv(os.path.join(outfile, \"out_vaccine.phandango.csv\"), index=False)\n",
    "\n",
    "\n",
    "#removing report.tsv from ariba summary output tree\n",
    "tree=os.path.join(outfile, \"B133_vaccine.phandango.tre\")\n",
    "new_tree = os.path.join(outfile, \"out_vaccine.phandango.tree\")\n",
    "with open(tree) as f:\n",
    "    data=f.read()\n",
    "    \n",
    "with open(new_tree, \"w\") as f:\n",
    "    f.write(data.replace(\"/report.tsv\", \"\"))"
   ]
  },
  {
   "cell_type": "code",
   "execution_count": null,
   "metadata": {},
   "outputs": [],
   "source": [
    "#selecting proteins which are present in all the major CCs from the ariba output summary\n",
    "#selecting columns which has 1 as the value across all the rows using its standard deviation\n",
    "#and dropping columns which does not have same values\n",
    "B003_vaccine=pd.read_csv(os.path.join(rvpath, \"B003_majorCC_vaccine.phandango.csv\" ))\n",
    "B003_selected=B003_vaccine.drop(B003_vaccine.std()[(B003_vaccine.std() != 0)].index, axis=1)\n",
    "B003_selected.to_csv(os.path.join(rvpath, \"B003_selected_vaccine.csv\"))"
   ]
  },
  {
   "cell_type": "code",
   "execution_count": null,
   "metadata": {},
   "outputs": [],
   "source": [
    "#picking protein sequences of the selected vaccine output using the column names \n",
    "B083_vac=pd.read_csv(os.path.join(rvpath, \"B083_selected_vaccine.csv\"))\n",
    "for b in B083_vac.columns[2:]:\n",
    "    l=b.split(\"_0\")[0]\n",
    "    print(\"picking\", b, \"from\", l+\".faa\")\n",
    "    with open(os.path.join(rvpath, \"B083_selected_vaccine_protein.fasta\"), \"a\") as c:\n",
    "        subprocess.run([\"samtools\", \"faidx\", os.path.join(sharepath, \"Bovine_isolates\", \"prokka\", l+\".faa\"), b],stdout=c)\n",
    "    "
   ]
  },
  {
   "cell_type": "code",
   "execution_count": null,
   "metadata": {},
   "outputs": [],
   "source": [
    "#picking nucleotide seq from prokka using column names of the selected vaccine csv\n",
    "B083_vac=pd.read_csv(os.path.join(rvpath, \"B083_selected_vaccine.csv\"))\n",
    "for b in B083_vac.columns[2:]:\n",
    "    l=b.split(\"_0\")[0]\n",
    "    s=os.path.join(sharepath, \"Bovine_isolates\", \"prokka\", l+\".ffn\")\n",
    "    print(\"picking\", b, \"from\", l+\".ffn\")\n",
    "    with open(os.path.join(rvpath, \"B083_selected_vaccine_nuc.fasta\"), \"a\") as t:\n",
    "                subprocess.run([\"seqkit\", \"grep\", \"-r\", \"-p\", \"^\"+b, s], stdout=t)"
   ]
  },
  {
   "cell_type": "code",
   "execution_count": null,
   "metadata": {},
   "outputs": [],
   "source": [
    "# running blastp on selected proteins to assess protein conservation and sequence variability\n",
    "protein = glob.glob(os.path.join(sharepath, \"Bovine_isolates\", \"prokka\", \"*.faa\"))\n",
    "query = os.path.join(sharepath, \"Bovine_isolates\", \"Reverse_vaccinology\", \"Shortlist_proteins.fasta\")\n",
    "output = os.path.join(sharepath, \"Bovine_isolates\", \"Reverse_vaccinology\", \"protein_conservation\")\n",
    "\n",
    "for p in protein:\n",
    "    filename=p.split(\"/\")[5].split(\".\")[0]\n",
    "    f=open (os.path.join(output, \"TSV_files\", filename+\"_blastp.tsv\"), \"w\")\n",
    "    subprocess.run([\"blastp\", \"-query\", query, \"-subject\", p, \"-outfmt\", \"6\"], stdout=f)\n",
    "    f.close()\n",
    "    "
   ]
  },
  {
   "cell_type": "code",
   "execution_count": null,
   "metadata": {},
   "outputs": [],
   "source": [
    "#selecting the best hits of the blastp results with pct_identity over 90\n",
    "\n",
    "output_file=glob.glob(os.path.join(output, \"TSV_files\", \"*.tsv\"))\n",
    "\n",
    "for o in output_file:\n",
    "    df = pd.read_csv(o, sep=\"\\t\", header=None,\n",
    "                 names=[\"query_id\", \"subject_id\", \"pct_identity\", \"aln_length\", \"n_of_mismatches\",\n",
    "                        \"gap_openings\", \"q_start\", \"q_end\", \"s_start\", \"s_end\", \"e_value\", \"bit_score\"])\n",
    "    df = df[(df['pct_identity'] >= 90) & (df['pct_identity'] <= 100)]\n",
    "    df.to_csv(os.path.join(output, \"all_proteins_blast90.tsv\"), sep=\"\\t\", mode=\"a\")"
   ]
  },
  {
   "cell_type": "code",
   "execution_count": null,
   "metadata": {},
   "outputs": [],
   "source": [
    "#extracting protein sequences from faa file of prokka using locus_tag from csv file\n",
    "def protein(name):\n",
    "    df=pd.read_csv(os.path.join(output, \"all_proteins_blast90.tsv\"), sep=\"\\t\")\n",
    "    df=df[(df[\"query_id\"])== name]\n",
    "    for b in df[\"subject_id\"]:\n",
    "        l=b.split(\"_0\")[0]\n",
    "        #print(\"picking\", b, \"from\", l+\".faa\")\n",
    "        with open(os.path.join(sharepath, \"Bovine_isolates\", \"Reverse_vaccinology\", \n",
    "                               \"protein_conservation\", \"Alignment\", name+\".fasta\"), \"a\") as c:\n",
    "            subprocess.run([\"samtools\", \"faidx\", os.path.join(sharepath, \"Bovine_isolates\", \"prokka\", l+\".faa\"), b],stdout=c)\n",
    "    "
   ]
  }
 ],
 "metadata": {
  "kernelspec": {
   "display_name": "Python 3",
   "language": "python",
   "name": "python3"
  },
  "language_info": {
   "codemirror_mode": {
    "name": "ipython",
    "version": 3
   },
   "file_extension": ".py",
   "mimetype": "text/x-python",
   "name": "python",
   "nbconvert_exporter": "python",
   "pygments_lexer": "ipython3",
   "version": "3.6.10"
  }
 },
 "nbformat": 4,
 "nbformat_minor": 4
}
