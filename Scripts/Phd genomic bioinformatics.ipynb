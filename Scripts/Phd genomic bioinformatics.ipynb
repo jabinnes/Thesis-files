{
 "cells": [
  {
   "cell_type": "code",
   "execution_count": null,
   "metadata": {},
   "outputs": [],
   "source": [
    "import glob\n",
    "import os\n",
    "import shutil\n",
    "import subprocess\n",
    "import pandas as pd\n",
    "import time\n",
    "import numpy as np\n",
    "from pathlib import Path\n",
    "import matplotlib\n",
    "%matplotlib inline\n",
    "from config import * #config file for paths of output and input files"
   ]
  },
  {
   "cell_type": "code",
   "execution_count": null,
   "metadata": {},
   "outputs": [],
   "source": [
    "# Assembly of multiple isolate reads using shovill\n",
    "r1_files=glob.glob(os.path.join(readpath, \"reads\", \"Bovine_processed\", \"*_R1.fastq*\"))\n",
    "count=0\n",
    "for r1 in r1_files:\n",
    "    start=time.time()\n",
    "    r2=r1.replace(\"_R1.\", \"_R2.\")\n",
    "    count+=1\n",
    "    labname=r1.split(\"/\")[5].split(\"_\")[1]\n",
    "    print(count, \"assembling\", labname)\n",
    "    subprocess.run([\"shovill\", \"--outdir\", os.path.join(workpath, \"Bovine_isolates\", \"Assembly\", labname), \"--R1\", r1, \"--R2\", r2])\n",
    "    end=time.time()\n",
    "    print((end-start)/60,\"mins\")"
   ]
  },
  {
   "cell_type": "code",
   "execution_count": 22,
   "metadata": {},
   "outputs": [],
   "source": [
    "# Analysing the quality of contigs using QUAST\n",
    "outdir=os.path.join(workpath, \"Bovine_QUAST\")\n",
    "count=0\n",
    "bovine_contigs=glob.glob(os.path.join(workpath, \"Bovine_isolates\", \"Assembly\", \"*\", \"*contigs.fa\"))\n",
    "for b in bovine_contigs:\n",
    "    count+=1\n",
    "    quastname=b.split(\"/\")[5]\n",
    "    print(count, \"processing quality of:\", quastname)\n",
    "    subprocess.run([\"quast.py\", \"-o\", outdir+\"/\"+quastname, b])\n",
    "    "
   ]
  },
  {
   "cell_type": "code",
   "execution_count": null,
   "metadata": {},
   "outputs": [],
   "source": [
    "#MLST identification of isolates using mlst tool(Tseemann)\n",
    "!mlst --csv   /home/jabin/Documents/Bovine_isolates/Assembly/*/contigs.fa > /home/jabin/Documents/Bovine_isolates/MLST/Bovine_mlst.csv"
   ]
  },
  {
   "cell_type": "code",
   "execution_count": null,
   "metadata": {},
   "outputs": [],
   "source": [
    "#Annotating assembly contigs using prokka\n",
    "bovine_name=pd.read_csv(os.path.join(sharepath, \"Bovine_isolates\", \"MLST\", \"bovinemlst_rename.csv\" ), index_col=\"Isolate\")\n",
    "count=0\n",
    "for b in bovine_contigs:\n",
    "    print(time.ctime())\n",
    "    start=time.time()\n",
    "    count+=1\n",
    "    prokkaname=bovine_name[\"New_name\"][b.split(\"/\")[5]]\n",
    "    print(count, \"annotating\", prokkaname)\n",
    "    subprocess.run([\"prokka\", \"--outdir\", \"Bovine_isolates/prokka/\", \"--prefix\", prokkaname, \"--locustag\", prokkaname, \"--force\", b])\n",
    "    end=time.time()\n",
    "    print((end-start)/60,\"mins\")"
   ]
  },
  {
   "cell_type": "code",
   "execution_count": null,
   "metadata": {},
   "outputs": [],
   "source": [
    "#Spa type identification using spa_typing tool\n",
    "dir=\"/home/jabin/spa_typing/\"\n",
    "os.chdir(dir)\n",
    "bovine_contigs=glob.glob(os.path.join(sharepath, \"Bovine_isolates\", \"Assembly\", \"*\", \"*contigs.fa\"))\n",
    "bovine_name=pd.read_csv(os.path.join(paperpath, \"data\", \"bovinenewnamemlst.csv\"), index_col=\"Assembly\")\n",
    "\n",
    "r=\"/home/jabin/Documents/spa_type/sparepeats.fasta\"\n",
    "o=\"/home/jabin/Documents/spa_type/spatypes.txt\"\n",
    "lines=[]\n",
    "for b in bovine_contigs:\n",
    "    labname=bovine_name[\"newname\"][b.split(\"/\")[5]]\n",
    "    print(\"spatyping\", labname)\n",
    "    data=subprocess.run([\"python2\", \"get_spa_type.py\",\"-f\", b], stdout=subprocess.PIPE, encoding='utf-8')\n",
    "    line1, line2, _=data.stdout.split(\"\\n\")\n",
    "    if not lines:\n",
    "        lines.append(line1 +'\\n')\n",
    "    lines.append(labname+'\\t'+line2+'\\n')\n",
    "    with open(os.path.join(sharepath, \"Bovine_isolates\", \"spa\", \"spa_results.txt\"), \"w\") as f:\n",
    "        f.writelines(lines)\n",
    "    \n",
    "    \n",
    "homedir=\"/home/jabin/research/notebooks/\"\n",
    "os.chdir(homedir)"
   ]
  },
  {
   "cell_type": "code",
   "execution_count": null,
   "metadata": {},
   "outputs": [],
   "source": [
    "#pangenome analysis of genomes using roary\n",
    "!roary -f /home/jabin/Documents/Bovine_isolates/roary_bovine_STname/ -e --mafft -r -p 4 -cd 100 /media/sf_dataJabin/Bovine_isolates/prokka/*.gff"
   ]
  },
  {
   "cell_type": "code",
   "execution_count": null,
   "metadata": {},
   "outputs": [],
   "source": [
    "#running snippy on reads using Staph_ST1 as reference and running core on the results.\n",
    "outdir=\"/home/jabin/Documents/Bovine_isolates/snippy_CC1\" #output file\n",
    "os.mkdir(outdir)\n",
    "ref=os.path.join(sharepath, \"references\", \"Staph_ST1.gbk\") #reference path\n",
    "for m in mlst_CC1[\"Assembly\"]:\n",
    "    CC1_r1=glob.glob(os.path.join(readpath, \"reads\",\"*\", \"processed_\"+m+\"_R1.fastq.gz\")) #read path\n",
    "    for r1 in CC1_r1:\n",
    "        r2=r1.replace(\"R1\", \"R2\")\n",
    "        labname=mlst_data[\"newname\"][r1.split(\"/\")[5].split(\"_\")[1]]\n",
    "        subprocess.run([\"snippy\", \"--outdir\", os.path.join(outdir,labname), \"--ref\", ref, \"--R1\", r1, \"--R2\", r2])\n",
    "\n",
    "\n",
    "!snippy-core --prefix core --ref /media/sf_dataJabin/references/Staph_ST1.gbk /home/jabin/Documents/Bovine_isolates/snippy_CC1/*"
   ]
  },
  {
   "cell_type": "code",
   "execution_count": null,
   "metadata": {},
   "outputs": [],
   "source": [
    "#creating input file for GenAlex amova using snippy results\n",
    "snp=pd.read_csv(os.path.join(readpath, \"Bovine_isolates\", \"snippy_results\", \"snippy_CC1\", \"core_snippyCC1.tab\"), sep=\"\\t\")\n",
    "snp_change=snp.replace(\"A\", \"1\")\n",
    "snp_change=snp_change.replace(\"C\", \"2\")\n",
    "snp_change=snp_change.replace(\"G\", \"3\")\n",
    "snp_change=snp_change.replace(\"T\", \"4\")\n",
    "snp_change.to_csv(os.path.join(readpath, \"Bovine_isolates\", \"snippy_results\", \"snippy_CC1\",\"core_snippyCC1_amova.tab\"), sep=\"\\t\", index=False)\n",
    "pd.read_csv(os.path.join(readpath, \"Bovine_isolates\", \"snippy_results\", \"snippy_CC1\", \"core_snippyCC1_amova.tab\"), header=None, sep=\"\\t\").T.to_csv(os.path.join(readpath, \"Bovine_isolates\", \"snippy_results\", \"snippy_CC1\",\"core_snippyCC1_amova_trans.tab\"), sep=\"\\t\", header=False, index=False)"
   ]
  },
  {
   "cell_type": "code",
   "execution_count": null,
   "metadata": {},
   "outputs": [],
   "source": [
    "#running roary on one farm bovine\n",
    "!roary -f /home/jabin/Documents/Bovine_isolates/roary_bovine_onefarm_STname -e --mafft -r -p 4 -cd 100 /media/sf_PhD_data/Comparative/gff_files/Onefarm_bovine_gff/*.gff"
   ]
  },
  {
   "cell_type": "code",
   "execution_count": null,
   "metadata": {},
   "outputs": [],
   "source": [
    "#running roary on all CC1 bovine\n",
    "!roary -f /home/jabin/Documents/Bovine_isolates/roary_bovine_CC1all_STname -e --mafft -r -p 4 -cd 100 /media/sf_PhD_data/Comparative/gff_files/CC1_bovine_gff/*.gff"
   ]
  },
  {
   "cell_type": "code",
   "execution_count": null,
   "metadata": {},
   "outputs": [],
   "source": [
    "#running roary on CC1 of one farm bovine\n",
    "!roary -f /home/jabin/Documents/Bovine_isolates/roary_bovine_CC1_STname -e --mafft -r -p 4 -cd 100 /media/sf_PhD_data/Comparative/gff_files/CC1_onefarm_bovine_gff/*.gff"
   ]
  },
  {
   "cell_type": "code",
   "execution_count": null,
   "metadata": {},
   "outputs": [],
   "source": [
    "#running roary on all CC97 bovine\n",
    "!roary -f /home/jabin/Documents/Bovine_isolates/roary_bovine_CC97all_STname -e --mafft -r -p 4 -cd 100 /media/sf_PhD_data/Comparative/gff_files/CC97_bovine_gff/*.gff"
   ]
  },
  {
   "cell_type": "code",
   "execution_count": null,
   "metadata": {},
   "outputs": [],
   "source": [
    "#running roary on all CC151 bovine\n",
    "!roary -f /home/jabin/Documents/Bovine_isolates/roary_bovine_CC151all_STname -e --mafft -r -p 4 -cd 100 /media/sf_PhD_data/Comparative/gff_files/CC151_bovine_gff/*.gff"
   ]
  },
  {
   "cell_type": "code",
   "execution_count": null,
   "metadata": {},
   "outputs": [],
   "source": [
    "#running roary on all CC8 bovine\n",
    "!roary -f /home/jabin/Documents/Bovine_isolates/roary_bovine_CC8all_STname -e --mafft -r -p 4 -cd 100 /media/sf_PhD_data/Comparative/gff_files/CC8_bovine_gff/*.gff"
   ]
  },
  {
   "cell_type": "code",
   "execution_count": null,
   "metadata": {},
   "outputs": [],
   "source": [
    "#running AgrVATE  on bovine isolates\n",
    "bovine_isolates=glob.glob(os.path.join(workpath, \"contigs_STname\", \"*.fa\"))\n",
    "outdir=\"/home/jabin/Documents/Bovine_isolates/AgrVATE_results\"\n",
    "for b in bovine_isolates:\n",
    "    subprocess.Popen([\"agrvate\", \"-i\", b])"
   ]
  },
  {
   "cell_type": "code",
   "execution_count": null,
   "metadata": {},
   "outputs": [],
   "source": [
    "agr_operon=glob.glob(os.path.join(outdir, \"*\", \"*.fna\"))"
   ]
  },
  {
   "cell_type": "code",
   "execution_count": null,
   "metadata": {
    "scrolled": true
   },
   "outputs": [],
   "source": [
    "len(agr_operon)"
   ]
  },
  {
   "cell_type": "code",
   "execution_count": null,
   "metadata": {},
   "outputs": [],
   "source": [
    "#extracting protein sequences of the pangenome genes from prokka output using samtools\n",
    "with open(\"/home/jabin/Documents/Bovine_isolates/roary_bovine_STname/pan_genome_reference.fa\") as pg:\n",
    "    data = []\n",
    "    for ln in pg:\n",
    "        if ln.startswith(\">\"):\n",
    "            data.append(ln)\n",
    "\n",
    "s = \" \".join(data)\n",
    "a = s.split(\"\\n \")\n",
    "\n",
    "for b in a:\n",
    "    l=b.split(\" \")[0].split(\",\")[-1].split(\">\")[1]\n",
    "    r=b.split(\"_0\")[0].split(\">\")[1]\n",
    "    with open(os.path.join(\"/home\", \"jabin\", \"Documents\", \"Bovine_isolates\", \"bovine_pan_genome_protein.fasta\"), \"a\") as f:\n",
    "        subprocess.run([\"samtools\", \"faidx\", os.path.join(sharepath, \"Bovine_isolates\", \"prokka\", r+\".faa\"), l],stdout=f)"
   ]
  },
  {
   "cell_type": "code",
   "execution_count": null,
   "metadata": {},
   "outputs": [],
   "source": [
    "agr_operon"
   ]
  },
  {
   "cell_type": "code",
   "execution_count": null,
   "metadata": {},
   "outputs": [],
   "source": [
    "#extracting agr_operon genes from fasta file and renaming the header to the isolate name using seqkit\n",
    "mlstdata=pd.read_csv(os.path.join(paperpath, \"data\", \"sbhmlst.csv\"),index_col=\"newname\")\n",
    "file_dir=\"/home/jabin/Documents/Bovine_isolates/AgrVATE_results/\"\n",
    "agr_operon = glob.glob(os.path.join(file_dir, \"*/*.fna*\"))\n",
    "agr_csv=pd.read_csv(os.path.join(file_dir, \"Bovine_agr.csv\"), sep=\"\\t\", index_col=\"filename\")\n",
    "with open (os.path.join(file_dir, \"agr_concat.fasta\"), \"a\") as f:\n",
    "    for a in agr_operon:\n",
    "        filename=a.split(\"/\")[6].split(\"-\")[0]\n",
    "        agr_name=agr_csv[\"agr_group\"][filename]\n",
    "        comb_name=filename+\"_\"+agr_name\n",
    "        ex=subprocess.Popen([\"seqkit\", \"grep\", \"-r\", \"-p\", \"^contig\", a], stdout=subprocess.PIPE)\n",
    "        subprocess.Popen([\"seqkit\",\"replace\", \"-p\",\".+\", \"-r\",comb_name],stdin=ex.stdout, stdout=f)\n",
    "\n",
    "\n",
    "\n",
    "f.close()"
   ]
  }
 ],
 "metadata": {
  "kernelspec": {
   "display_name": "Python 3",
   "language": "python",
   "name": "python3"
  },
  "language_info": {
   "codemirror_mode": {
    "name": "ipython",
    "version": 3
   },
   "file_extension": ".py",
   "mimetype": "text/x-python",
   "name": "python",
   "nbconvert_exporter": "python",
   "pygments_lexer": "ipython3",
   "version": "3.6.7"
  }
 },
 "nbformat": 4,
 "nbformat_minor": 2
}
